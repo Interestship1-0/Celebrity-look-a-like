{
 "cells": [
  {
   "cell_type": "code",
   "execution_count": null,
   "metadata": {},
   "outputs": [],
   "source": [
    "#face detection with videos\n",
    "from google.colab.patches import cv2_imshow\n",
    "def detect_vid(vidpath):\n",
    "  video_c = cv2.VideoCapture(vidpath)\n",
    "  flag = 0\n",
    "  while True:\n",
    "    ret , frame = video_c.read()\n",
    "    gray = cv2.cvtColor(frame, cv2.COLOR_BGR2GRAY)\n",
    "    face_detect = dlib.get_frontal_face_detector()\n",
    "\n",
    "    rects = face_detect(gray , 1)\n",
    "    for (i, rect) in enumerate(rects):\n",
    "      (x,y,w,h) = face_utils.rect_to_bb(rect)\n",
    "      cv2.rectangle(frame,(x,y),(x+w , y+h),(255,255,255),2 )\n",
    "    \n",
    "    cv2_imshow(frame)\n",
    "\n",
    "    if cv2.waitKey(1) & 0xFF == ord('q'):\n",
    "      break\n",
    "\n",
    "  video_c.release()\n",
    "  cv2.destroyAllWindows()\n",
    "\n",
    "detect_vid('1.mp4')"
   ]
  },
  {
   "cell_type": "code",
   "execution_count": null,
   "metadata": {},
   "outputs": [],
   "source": [
    "#real time face detection\n",
    "from google.colab.patches import cv2_imshow\n",
    "def detect_vid():\n",
    "  video_c = cv2.VideoCapture(0)\n",
    "  flag = 0\n",
    "  while True:\n",
    "    ret , frame = video_c.read()\n",
    "    gray = cv2.cvtColor(frame, cv2.COLOR_BGR2GRAY)\n",
    "    face_detect = dlib.get_frontal_face_detector()\n",
    "\n",
    "    rects = face_detect(gray , 1)\n",
    "    for (i, rect) in enumerate(rects):\n",
    "      (x,y,w,h) = face_utils.rect_to_bb(rect)\n",
    "      cv2.rectangle(frame,(x,y),(x+w , y+h),(255,255,255),2 )\n",
    "    \n",
    "    cv2_imshow(frame)\n",
    "\n",
    "    if cv2.waitKey(1) & 0xFF == ord('q'):\n",
    "      break\n",
    "\n",
    "  video_c.release()\n",
    "  cv2.destroyAllWindows()\n",
    "\n",
    "detect_vid()"
   ]
  }
 ],
 "metadata": {
  "kernelspec": {
   "display_name": "Python 3",
   "language": "python",
   "name": "python3"
  },
  "language_info": {
   "codemirror_mode": {
    "name": "ipython",
    "version": 3
   },
   "file_extension": ".py",
   "mimetype": "text/x-python",
   "name": "python",
   "nbconvert_exporter": "python",
   "pygments_lexer": "ipython3",
   "version": "3.7.4"
  }
 },
 "nbformat": 4,
 "nbformat_minor": 2
}
